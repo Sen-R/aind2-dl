{
 "cells": [
  {
   "cell_type": "markdown",
   "metadata": {},
   "source": [
    "# Analyzing IMDB Data in Keras"
   ]
  },
  {
   "cell_type": "code",
   "execution_count": 1,
   "metadata": {},
   "outputs": [
    {
     "name": "stderr",
     "output_type": "stream",
     "text": [
      "Using TensorFlow backend.\n"
     ]
    }
   ],
   "source": [
    "# Imports\n",
    "import numpy as np\n",
    "import keras\n",
    "from keras.datasets import imdb\n",
    "from keras.models import Sequential\n",
    "from keras.layers import Dense, Dropout, Activation\n",
    "from keras.preprocessing.text import Tokenizer\n",
    "from keras.callbacks import CSVLogger\n",
    "from keras.regularizers import l1, l2\n",
    "import matplotlib.pyplot as plt\n",
    "%matplotlib inline\n",
    "\n",
    "# Some sklearn imports to compare models\n",
    "from sklearn.ensemble import RandomForestClassifier, GradientBoostingClassifier\n",
    "from sklearn.tree import DecisionTreeClassifier\n",
    "from sklearn.metrics import accuracy_score\n",
    "from sklearn.model_selection import ShuffleSplit\n",
    "\n",
    "np.random.seed(42)"
   ]
  },
  {
   "cell_type": "markdown",
   "metadata": {},
   "source": [
    "## 1. Loading the data\n",
    "This dataset comes preloaded with Keras, so one simple command will get us training and testing data. There is a parameter for how many words we want to look at. We've set it at 1000, but feel free to experiment."
   ]
  },
  {
   "cell_type": "code",
   "execution_count": 2,
   "metadata": {},
   "outputs": [
    {
     "name": "stdout",
     "output_type": "stream",
     "text": [
      "(25000,)\n",
      "(25000,)\n"
     ]
    }
   ],
   "source": [
    "# Loading the data (it's preloaded in Keras)\n",
    "(x_train, y_train), (x_test, y_test) = imdb.load_data(num_words=1000)\n",
    "\n",
    "print(x_train.shape)\n",
    "print(x_test.shape)"
   ]
  },
  {
   "cell_type": "markdown",
   "metadata": {},
   "source": [
    "## 2. Examining the data\n",
    "Notice that the data has been already pre-processed, where all the words have numbers, and the reviews come in as a vector with the words that the review contains. For example, if the word 'the' is the first one in our dictionary, and a review contains the word 'the', then there is a 1 in the corresponding vector.\n",
    "\n",
    "The output comes as a vector of 1's and 0's, where 1 is a positive sentiment for the review, and 0 is negative."
   ]
  },
  {
   "cell_type": "code",
   "execution_count": 3,
   "metadata": {},
   "outputs": [
    {
     "name": "stdout",
     "output_type": "stream",
     "text": [
      "[1, 14, 22, 16, 43, 530, 973, 2, 2, 65, 458, 2, 66, 2, 4, 173, 36, 256, 5, 25, 100, 43, 838, 112, 50, 670, 2, 9, 35, 480, 284, 5, 150, 4, 172, 112, 167, 2, 336, 385, 39, 4, 172, 2, 2, 17, 546, 38, 13, 447, 4, 192, 50, 16, 6, 147, 2, 19, 14, 22, 4, 2, 2, 469, 4, 22, 71, 87, 12, 16, 43, 530, 38, 76, 15, 13, 2, 4, 22, 17, 515, 17, 12, 16, 626, 18, 2, 5, 62, 386, 12, 8, 316, 8, 106, 5, 4, 2, 2, 16, 480, 66, 2, 33, 4, 130, 12, 16, 38, 619, 5, 25, 124, 51, 36, 135, 48, 25, 2, 33, 6, 22, 12, 215, 28, 77, 52, 5, 14, 407, 16, 82, 2, 8, 4, 107, 117, 2, 15, 256, 4, 2, 7, 2, 5, 723, 36, 71, 43, 530, 476, 26, 400, 317, 46, 7, 4, 2, 2, 13, 104, 88, 4, 381, 15, 297, 98, 32, 2, 56, 26, 141, 6, 194, 2, 18, 4, 226, 22, 21, 134, 476, 26, 480, 5, 144, 30, 2, 18, 51, 36, 28, 224, 92, 25, 104, 4, 226, 65, 16, 38, 2, 88, 12, 16, 283, 5, 16, 2, 113, 103, 32, 15, 16, 2, 19, 178, 32]\n",
      "1\n"
     ]
    }
   ],
   "source": [
    "print(x_train[0])\n",
    "print(y_train[0])"
   ]
  },
  {
   "cell_type": "markdown",
   "metadata": {},
   "source": [
    "Let's get a baseline estimate for accuracy."
   ]
  },
  {
   "cell_type": "code",
   "execution_count": 4,
   "metadata": {},
   "outputs": [
    {
     "data": {
      "text/plain": [
       "0.5"
      ]
     },
     "execution_count": 4,
     "metadata": {},
     "output_type": "execute_result"
    }
   ],
   "source": [
    "y_train.mean()"
   ]
  },
  {
   "cell_type": "markdown",
   "metadata": {},
   "source": [
    "So anything above 50% accuracy is better than chance."
   ]
  },
  {
   "cell_type": "markdown",
   "metadata": {},
   "source": [
    "## 3. One-hot encoding the output\n",
    "Here, we'll turn the input vectors into (0,1)-vectors. For example, if the pre-processed vector contains the number 14, then in the processed vector, the 14th entry will be 1."
   ]
  },
  {
   "cell_type": "code",
   "execution_count": 5,
   "metadata": {},
   "outputs": [],
   "source": [
    "# One-hot encoding the output into vector mode, each of length 1000\n",
    "tokenizer = Tokenizer(num_words=1000)\n",
    "x_train = tokenizer.sequences_to_matrix(x_train, mode='binary')\n",
    "x_test = tokenizer.sequences_to_matrix(x_test, mode='binary')"
   ]
  },
  {
   "cell_type": "code",
   "execution_count": 6,
   "metadata": {},
   "outputs": [
    {
     "data": {
      "text/plain": [
       "1.0"
      ]
     },
     "execution_count": 6,
     "metadata": {},
     "output_type": "execute_result"
    }
   ],
   "source": [
    "np.max(x_train)"
   ]
  },
  {
   "cell_type": "markdown",
   "metadata": {},
   "source": [
    "And we'll also one-hot encode the output."
   ]
  },
  {
   "cell_type": "code",
   "execution_count": 7,
   "metadata": {},
   "outputs": [
    {
     "name": "stdout",
     "output_type": "stream",
     "text": [
      "(25000, 2)\n",
      "(25000, 2)\n"
     ]
    }
   ],
   "source": [
    "# One-hot encoding the output\n",
    "num_classes = 2\n",
    "y_train = keras.utils.to_categorical(y_train, num_classes)\n",
    "y_test = keras.utils.to_categorical(y_test, num_classes)\n",
    "print(y_train.shape)\n",
    "print(y_test.shape)"
   ]
  },
  {
   "cell_type": "markdown",
   "metadata": {},
   "source": [
    "## 3b. Some baseline models to compare with\n",
    "\n",
    "Let's train a single decision tree and random forest to get some baseline accuracy results using alternative models we have seen before."
   ]
  },
  {
   "cell_type": "code",
   "execution_count": 133,
   "metadata": {
    "collapsed": true
   },
   "outputs": [],
   "source": [
    "shuffle_split = ShuffleSplit(n_splits=3, test_size=0.2)\n",
    "tree = DecisionTreeClassifier(max_depth=15, random_state=42)\n",
    "forest = RandomForestClassifier(n_estimators=500, random_state=42)\n",
    "gradient = GradientBoostingClassifier(random_state=42)\n",
    "tree_scores = [gradient.fit(x_train[train], y_train[train,1]).score(x_train[test], y_train[test, 1]) for train, test in shuffle_split.split(x_train)]"
   ]
  },
  {
   "cell_type": "code",
   "execution_count": 134,
   "metadata": {},
   "outputs": [
    {
     "data": {
      "text/plain": [
       "0.80873333333333319"
      ]
     },
     "execution_count": 134,
     "metadata": {},
     "output_type": "execute_result"
    }
   ],
   "source": [
    "np.mean(tree_scores)"
   ]
  },
  {
   "cell_type": "markdown",
   "metadata": {},
   "source": [
    "## 4. Building the  model architecture\n",
    "Build a model here using sequential. Feel free to experiment with different layers and sizes! Also, experiment adding dropout to reduce overfitting."
   ]
  },
  {
   "cell_type": "code",
   "execution_count": 25,
   "metadata": {},
   "outputs": [
    {
     "name": "stdout",
     "output_type": "stream",
     "text": [
      "_________________________________________________________________\n",
      "Layer (type)                 Output Shape              Param #   \n",
      "=================================================================\n",
      "dense_22 (Dense)             (None, 128)               128128    \n",
      "_________________________________________________________________\n",
      "dropout_15 (Dropout)         (None, 128)               0         \n",
      "_________________________________________________________________\n",
      "dense_23 (Dense)             (None, 64)                8256      \n",
      "_________________________________________________________________\n",
      "dropout_16 (Dropout)         (None, 64)                0         \n",
      "_________________________________________________________________\n",
      "dense_24 (Dense)             (None, 2)                 130       \n",
      "=================================================================\n",
      "Total params: 136,514\n",
      "Trainable params: 136,514\n",
      "Non-trainable params: 0\n",
      "_________________________________________________________________\n"
     ]
    }
   ],
   "source": [
    "# TODO: Build the model architecture\n",
    "model = Sequential()\n",
    "model.add(Dense(128, activation='relu', input_dim=1000))\n",
    "model.add(Dropout(0.5))\n",
    "model.add(Dense(64, activation='relu'))\n",
    "model.add(Dropout(0.5))\n",
    "model.add(Dense(2, activation='softmax'))\n",
    "model.summary()\n",
    "# TODO: Compile the model using a loss function and an optimizer.\n",
    "model.compile('adam', 'categorical_crossentropy', metrics=['accuracy'])"
   ]
  },
  {
   "cell_type": "markdown",
   "metadata": {},
   "source": [
    "## 5. Training the model\n",
    "Run the model here. Experiment with different batch_size, and number of epochs!"
   ]
  },
  {
   "cell_type": "code",
   "execution_count": 26,
   "metadata": {},
   "outputs": [
    {
     "data": {
      "text/html": [
       "<div>\n",
       "<style>\n",
       "    .dataframe thead tr:only-child th {\n",
       "        text-align: right;\n",
       "    }\n",
       "\n",
       "    .dataframe thead th {\n",
       "        text-align: left;\n",
       "    }\n",
       "\n",
       "    .dataframe tbody tr th {\n",
       "        vertical-align: top;\n",
       "    }\n",
       "</style>\n",
       "<table border=\"1\" class=\"dataframe\">\n",
       "  <thead>\n",
       "    <tr style=\"text-align: right;\">\n",
       "      <th></th>\n",
       "      <th>acc</th>\n",
       "      <th>loss</th>\n",
       "      <th>val_acc</th>\n",
       "      <th>val_loss</th>\n",
       "    </tr>\n",
       "    <tr>\n",
       "      <th>epoch</th>\n",
       "      <th></th>\n",
       "      <th></th>\n",
       "      <th></th>\n",
       "      <th></th>\n",
       "    </tr>\n",
       "  </thead>\n",
       "  <tbody>\n",
       "    <tr>\n",
       "      <th>0</th>\n",
       "      <td>0.71245</td>\n",
       "      <td>0.544549</td>\n",
       "      <td>0.8474</td>\n",
       "      <td>0.355492</td>\n",
       "    </tr>\n",
       "    <tr>\n",
       "      <th>1</th>\n",
       "      <td>0.84455</td>\n",
       "      <td>0.367491</td>\n",
       "      <td>0.8614</td>\n",
       "      <td>0.328937</td>\n",
       "    </tr>\n",
       "    <tr>\n",
       "      <th>2</th>\n",
       "      <td>0.86190</td>\n",
       "      <td>0.325934</td>\n",
       "      <td>0.8584</td>\n",
       "      <td>0.322698</td>\n",
       "    </tr>\n",
       "    <tr>\n",
       "      <th>3</th>\n",
       "      <td>0.87850</td>\n",
       "      <td>0.294871</td>\n",
       "      <td>0.8610</td>\n",
       "      <td>0.324422</td>\n",
       "    </tr>\n",
       "    <tr>\n",
       "      <th>4</th>\n",
       "      <td>0.89230</td>\n",
       "      <td>0.271500</td>\n",
       "      <td>0.8624</td>\n",
       "      <td>0.326675</td>\n",
       "    </tr>\n",
       "    <tr>\n",
       "      <th>5</th>\n",
       "      <td>0.90175</td>\n",
       "      <td>0.243730</td>\n",
       "      <td>0.8568</td>\n",
       "      <td>0.340208</td>\n",
       "    </tr>\n",
       "    <tr>\n",
       "      <th>6</th>\n",
       "      <td>0.91650</td>\n",
       "      <td>0.214277</td>\n",
       "      <td>0.8588</td>\n",
       "      <td>0.357252</td>\n",
       "    </tr>\n",
       "    <tr>\n",
       "      <th>7</th>\n",
       "      <td>0.92870</td>\n",
       "      <td>0.186257</td>\n",
       "      <td>0.8566</td>\n",
       "      <td>0.386089</td>\n",
       "    </tr>\n",
       "    <tr>\n",
       "      <th>8</th>\n",
       "      <td>0.93825</td>\n",
       "      <td>0.166441</td>\n",
       "      <td>0.8530</td>\n",
       "      <td>0.403159</td>\n",
       "    </tr>\n",
       "    <tr>\n",
       "      <th>9</th>\n",
       "      <td>0.94580</td>\n",
       "      <td>0.142214</td>\n",
       "      <td>0.8538</td>\n",
       "      <td>0.432457</td>\n",
       "    </tr>\n",
       "    <tr>\n",
       "      <th>10</th>\n",
       "      <td>0.95400</td>\n",
       "      <td>0.124354</td>\n",
       "      <td>0.8574</td>\n",
       "      <td>0.455016</td>\n",
       "    </tr>\n",
       "    <tr>\n",
       "      <th>11</th>\n",
       "      <td>0.95805</td>\n",
       "      <td>0.113656</td>\n",
       "      <td>0.8578</td>\n",
       "      <td>0.466320</td>\n",
       "    </tr>\n",
       "    <tr>\n",
       "      <th>12</th>\n",
       "      <td>0.96135</td>\n",
       "      <td>0.105816</td>\n",
       "      <td>0.8494</td>\n",
       "      <td>0.489193</td>\n",
       "    </tr>\n",
       "    <tr>\n",
       "      <th>13</th>\n",
       "      <td>0.96345</td>\n",
       "      <td>0.097287</td>\n",
       "      <td>0.8552</td>\n",
       "      <td>0.510972</td>\n",
       "    </tr>\n",
       "    <tr>\n",
       "      <th>14</th>\n",
       "      <td>0.96555</td>\n",
       "      <td>0.090629</td>\n",
       "      <td>0.8478</td>\n",
       "      <td>0.510959</td>\n",
       "    </tr>\n",
       "    <tr>\n",
       "      <th>15</th>\n",
       "      <td>0.97135</td>\n",
       "      <td>0.078868</td>\n",
       "      <td>0.8518</td>\n",
       "      <td>0.542859</td>\n",
       "    </tr>\n",
       "    <tr>\n",
       "      <th>16</th>\n",
       "      <td>0.97090</td>\n",
       "      <td>0.078163</td>\n",
       "      <td>0.8506</td>\n",
       "      <td>0.575925</td>\n",
       "    </tr>\n",
       "    <tr>\n",
       "      <th>17</th>\n",
       "      <td>0.97060</td>\n",
       "      <td>0.079118</td>\n",
       "      <td>0.8488</td>\n",
       "      <td>0.555782</td>\n",
       "    </tr>\n",
       "    <tr>\n",
       "      <th>18</th>\n",
       "      <td>0.97485</td>\n",
       "      <td>0.068616</td>\n",
       "      <td>0.8512</td>\n",
       "      <td>0.586394</td>\n",
       "    </tr>\n",
       "    <tr>\n",
       "      <th>19</th>\n",
       "      <td>0.97460</td>\n",
       "      <td>0.067597</td>\n",
       "      <td>0.8510</td>\n",
       "      <td>0.578782</td>\n",
       "    </tr>\n",
       "    <tr>\n",
       "      <th>20</th>\n",
       "      <td>0.97620</td>\n",
       "      <td>0.062280</td>\n",
       "      <td>0.8492</td>\n",
       "      <td>0.607245</td>\n",
       "    </tr>\n",
       "    <tr>\n",
       "      <th>21</th>\n",
       "      <td>0.97675</td>\n",
       "      <td>0.060693</td>\n",
       "      <td>0.8478</td>\n",
       "      <td>0.604974</td>\n",
       "    </tr>\n",
       "    <tr>\n",
       "      <th>22</th>\n",
       "      <td>0.97785</td>\n",
       "      <td>0.059172</td>\n",
       "      <td>0.8478</td>\n",
       "      <td>0.637009</td>\n",
       "    </tr>\n",
       "    <tr>\n",
       "      <th>23</th>\n",
       "      <td>0.97785</td>\n",
       "      <td>0.059353</td>\n",
       "      <td>0.8500</td>\n",
       "      <td>0.624265</td>\n",
       "    </tr>\n",
       "    <tr>\n",
       "      <th>24</th>\n",
       "      <td>0.97905</td>\n",
       "      <td>0.054609</td>\n",
       "      <td>0.8488</td>\n",
       "      <td>0.664934</td>\n",
       "    </tr>\n",
       "    <tr>\n",
       "      <th>25</th>\n",
       "      <td>0.98010</td>\n",
       "      <td>0.054206</td>\n",
       "      <td>0.8520</td>\n",
       "      <td>0.646049</td>\n",
       "    </tr>\n",
       "    <tr>\n",
       "      <th>26</th>\n",
       "      <td>0.98005</td>\n",
       "      <td>0.052759</td>\n",
       "      <td>0.8480</td>\n",
       "      <td>0.651613</td>\n",
       "    </tr>\n",
       "    <tr>\n",
       "      <th>27</th>\n",
       "      <td>0.98050</td>\n",
       "      <td>0.050611</td>\n",
       "      <td>0.8502</td>\n",
       "      <td>0.659746</td>\n",
       "    </tr>\n",
       "    <tr>\n",
       "      <th>28</th>\n",
       "      <td>0.98205</td>\n",
       "      <td>0.047464</td>\n",
       "      <td>0.8528</td>\n",
       "      <td>0.676948</td>\n",
       "    </tr>\n",
       "    <tr>\n",
       "      <th>29</th>\n",
       "      <td>0.98085</td>\n",
       "      <td>0.046946</td>\n",
       "      <td>0.8508</td>\n",
       "      <td>0.698321</td>\n",
       "    </tr>\n",
       "    <tr>\n",
       "      <th>...</th>\n",
       "      <td>...</td>\n",
       "      <td>...</td>\n",
       "      <td>...</td>\n",
       "      <td>...</td>\n",
       "    </tr>\n",
       "    <tr>\n",
       "      <th>70</th>\n",
       "      <td>0.98780</td>\n",
       "      <td>0.029114</td>\n",
       "      <td>0.8470</td>\n",
       "      <td>0.846515</td>\n",
       "    </tr>\n",
       "    <tr>\n",
       "      <th>71</th>\n",
       "      <td>0.98835</td>\n",
       "      <td>0.031082</td>\n",
       "      <td>0.8512</td>\n",
       "      <td>0.875752</td>\n",
       "    </tr>\n",
       "    <tr>\n",
       "      <th>72</th>\n",
       "      <td>0.98870</td>\n",
       "      <td>0.028345</td>\n",
       "      <td>0.8484</td>\n",
       "      <td>0.853830</td>\n",
       "    </tr>\n",
       "    <tr>\n",
       "      <th>73</th>\n",
       "      <td>0.98920</td>\n",
       "      <td>0.030669</td>\n",
       "      <td>0.8478</td>\n",
       "      <td>0.842890</td>\n",
       "    </tr>\n",
       "    <tr>\n",
       "      <th>74</th>\n",
       "      <td>0.98980</td>\n",
       "      <td>0.026398</td>\n",
       "      <td>0.8446</td>\n",
       "      <td>0.893453</td>\n",
       "    </tr>\n",
       "    <tr>\n",
       "      <th>75</th>\n",
       "      <td>0.98985</td>\n",
       "      <td>0.025737</td>\n",
       "      <td>0.8476</td>\n",
       "      <td>0.901992</td>\n",
       "    </tr>\n",
       "    <tr>\n",
       "      <th>76</th>\n",
       "      <td>0.98870</td>\n",
       "      <td>0.030980</td>\n",
       "      <td>0.8464</td>\n",
       "      <td>0.883095</td>\n",
       "    </tr>\n",
       "    <tr>\n",
       "      <th>77</th>\n",
       "      <td>0.98845</td>\n",
       "      <td>0.030718</td>\n",
       "      <td>0.8510</td>\n",
       "      <td>0.834953</td>\n",
       "    </tr>\n",
       "    <tr>\n",
       "      <th>78</th>\n",
       "      <td>0.98905</td>\n",
       "      <td>0.029905</td>\n",
       "      <td>0.8454</td>\n",
       "      <td>0.877017</td>\n",
       "    </tr>\n",
       "    <tr>\n",
       "      <th>79</th>\n",
       "      <td>0.98975</td>\n",
       "      <td>0.026990</td>\n",
       "      <td>0.8454</td>\n",
       "      <td>0.873838</td>\n",
       "    </tr>\n",
       "    <tr>\n",
       "      <th>80</th>\n",
       "      <td>0.98920</td>\n",
       "      <td>0.029131</td>\n",
       "      <td>0.8468</td>\n",
       "      <td>0.892635</td>\n",
       "    </tr>\n",
       "    <tr>\n",
       "      <th>81</th>\n",
       "      <td>0.98970</td>\n",
       "      <td>0.026809</td>\n",
       "      <td>0.8512</td>\n",
       "      <td>0.892188</td>\n",
       "    </tr>\n",
       "    <tr>\n",
       "      <th>82</th>\n",
       "      <td>0.99025</td>\n",
       "      <td>0.024884</td>\n",
       "      <td>0.8510</td>\n",
       "      <td>0.907568</td>\n",
       "    </tr>\n",
       "    <tr>\n",
       "      <th>83</th>\n",
       "      <td>0.98855</td>\n",
       "      <td>0.029790</td>\n",
       "      <td>0.8500</td>\n",
       "      <td>0.869582</td>\n",
       "    </tr>\n",
       "    <tr>\n",
       "      <th>84</th>\n",
       "      <td>0.98875</td>\n",
       "      <td>0.029007</td>\n",
       "      <td>0.8494</td>\n",
       "      <td>0.889158</td>\n",
       "    </tr>\n",
       "    <tr>\n",
       "      <th>85</th>\n",
       "      <td>0.98960</td>\n",
       "      <td>0.026206</td>\n",
       "      <td>0.8540</td>\n",
       "      <td>0.883494</td>\n",
       "    </tr>\n",
       "    <tr>\n",
       "      <th>86</th>\n",
       "      <td>0.98950</td>\n",
       "      <td>0.026769</td>\n",
       "      <td>0.8468</td>\n",
       "      <td>0.909958</td>\n",
       "    </tr>\n",
       "    <tr>\n",
       "      <th>87</th>\n",
       "      <td>0.98935</td>\n",
       "      <td>0.025383</td>\n",
       "      <td>0.8490</td>\n",
       "      <td>0.972524</td>\n",
       "    </tr>\n",
       "    <tr>\n",
       "      <th>88</th>\n",
       "      <td>0.98995</td>\n",
       "      <td>0.025863</td>\n",
       "      <td>0.8492</td>\n",
       "      <td>0.900598</td>\n",
       "    </tr>\n",
       "    <tr>\n",
       "      <th>89</th>\n",
       "      <td>0.99035</td>\n",
       "      <td>0.023926</td>\n",
       "      <td>0.8492</td>\n",
       "      <td>0.939502</td>\n",
       "    </tr>\n",
       "    <tr>\n",
       "      <th>90</th>\n",
       "      <td>0.98950</td>\n",
       "      <td>0.025890</td>\n",
       "      <td>0.8474</td>\n",
       "      <td>0.941133</td>\n",
       "    </tr>\n",
       "    <tr>\n",
       "      <th>91</th>\n",
       "      <td>0.99085</td>\n",
       "      <td>0.026128</td>\n",
       "      <td>0.8508</td>\n",
       "      <td>0.935815</td>\n",
       "    </tr>\n",
       "    <tr>\n",
       "      <th>92</th>\n",
       "      <td>0.99070</td>\n",
       "      <td>0.023899</td>\n",
       "      <td>0.8466</td>\n",
       "      <td>0.883038</td>\n",
       "    </tr>\n",
       "    <tr>\n",
       "      <th>93</th>\n",
       "      <td>0.98955</td>\n",
       "      <td>0.027512</td>\n",
       "      <td>0.8504</td>\n",
       "      <td>0.908477</td>\n",
       "    </tr>\n",
       "    <tr>\n",
       "      <th>94</th>\n",
       "      <td>0.99030</td>\n",
       "      <td>0.026080</td>\n",
       "      <td>0.8456</td>\n",
       "      <td>0.896778</td>\n",
       "    </tr>\n",
       "    <tr>\n",
       "      <th>95</th>\n",
       "      <td>0.99105</td>\n",
       "      <td>0.025241</td>\n",
       "      <td>0.8492</td>\n",
       "      <td>0.935678</td>\n",
       "    </tr>\n",
       "    <tr>\n",
       "      <th>96</th>\n",
       "      <td>0.99000</td>\n",
       "      <td>0.024710</td>\n",
       "      <td>0.8454</td>\n",
       "      <td>0.946493</td>\n",
       "    </tr>\n",
       "    <tr>\n",
       "      <th>97</th>\n",
       "      <td>0.99065</td>\n",
       "      <td>0.026382</td>\n",
       "      <td>0.8500</td>\n",
       "      <td>0.931271</td>\n",
       "    </tr>\n",
       "    <tr>\n",
       "      <th>98</th>\n",
       "      <td>0.99020</td>\n",
       "      <td>0.026298</td>\n",
       "      <td>0.8508</td>\n",
       "      <td>0.936337</td>\n",
       "    </tr>\n",
       "    <tr>\n",
       "      <th>99</th>\n",
       "      <td>0.99005</td>\n",
       "      <td>0.025508</td>\n",
       "      <td>0.8504</td>\n",
       "      <td>0.941884</td>\n",
       "    </tr>\n",
       "  </tbody>\n",
       "</table>\n",
       "<p>100 rows × 4 columns</p>\n",
       "</div>"
      ],
      "text/plain": [
       "           acc      loss  val_acc  val_loss\n",
       "epoch                                      \n",
       "0      0.71245  0.544549   0.8474  0.355492\n",
       "1      0.84455  0.367491   0.8614  0.328937\n",
       "2      0.86190  0.325934   0.8584  0.322698\n",
       "3      0.87850  0.294871   0.8610  0.324422\n",
       "4      0.89230  0.271500   0.8624  0.326675\n",
       "5      0.90175  0.243730   0.8568  0.340208\n",
       "6      0.91650  0.214277   0.8588  0.357252\n",
       "7      0.92870  0.186257   0.8566  0.386089\n",
       "8      0.93825  0.166441   0.8530  0.403159\n",
       "9      0.94580  0.142214   0.8538  0.432457\n",
       "10     0.95400  0.124354   0.8574  0.455016\n",
       "11     0.95805  0.113656   0.8578  0.466320\n",
       "12     0.96135  0.105816   0.8494  0.489193\n",
       "13     0.96345  0.097287   0.8552  0.510972\n",
       "14     0.96555  0.090629   0.8478  0.510959\n",
       "15     0.97135  0.078868   0.8518  0.542859\n",
       "16     0.97090  0.078163   0.8506  0.575925\n",
       "17     0.97060  0.079118   0.8488  0.555782\n",
       "18     0.97485  0.068616   0.8512  0.586394\n",
       "19     0.97460  0.067597   0.8510  0.578782\n",
       "20     0.97620  0.062280   0.8492  0.607245\n",
       "21     0.97675  0.060693   0.8478  0.604974\n",
       "22     0.97785  0.059172   0.8478  0.637009\n",
       "23     0.97785  0.059353   0.8500  0.624265\n",
       "24     0.97905  0.054609   0.8488  0.664934\n",
       "25     0.98010  0.054206   0.8520  0.646049\n",
       "26     0.98005  0.052759   0.8480  0.651613\n",
       "27     0.98050  0.050611   0.8502  0.659746\n",
       "28     0.98205  0.047464   0.8528  0.676948\n",
       "29     0.98085  0.046946   0.8508  0.698321\n",
       "...        ...       ...      ...       ...\n",
       "70     0.98780  0.029114   0.8470  0.846515\n",
       "71     0.98835  0.031082   0.8512  0.875752\n",
       "72     0.98870  0.028345   0.8484  0.853830\n",
       "73     0.98920  0.030669   0.8478  0.842890\n",
       "74     0.98980  0.026398   0.8446  0.893453\n",
       "75     0.98985  0.025737   0.8476  0.901992\n",
       "76     0.98870  0.030980   0.8464  0.883095\n",
       "77     0.98845  0.030718   0.8510  0.834953\n",
       "78     0.98905  0.029905   0.8454  0.877017\n",
       "79     0.98975  0.026990   0.8454  0.873838\n",
       "80     0.98920  0.029131   0.8468  0.892635\n",
       "81     0.98970  0.026809   0.8512  0.892188\n",
       "82     0.99025  0.024884   0.8510  0.907568\n",
       "83     0.98855  0.029790   0.8500  0.869582\n",
       "84     0.98875  0.029007   0.8494  0.889158\n",
       "85     0.98960  0.026206   0.8540  0.883494\n",
       "86     0.98950  0.026769   0.8468  0.909958\n",
       "87     0.98935  0.025383   0.8490  0.972524\n",
       "88     0.98995  0.025863   0.8492  0.900598\n",
       "89     0.99035  0.023926   0.8492  0.939502\n",
       "90     0.98950  0.025890   0.8474  0.941133\n",
       "91     0.99085  0.026128   0.8508  0.935815\n",
       "92     0.99070  0.023899   0.8466  0.883038\n",
       "93     0.98955  0.027512   0.8504  0.908477\n",
       "94     0.99030  0.026080   0.8456  0.896778\n",
       "95     0.99105  0.025241   0.8492  0.935678\n",
       "96     0.99000  0.024710   0.8454  0.946493\n",
       "97     0.99065  0.026382   0.8500  0.931271\n",
       "98     0.99020  0.026298   0.8508  0.936337\n",
       "99     0.99005  0.025508   0.8504  0.941884\n",
       "\n",
       "[100 rows x 4 columns]"
      ]
     },
     "metadata": {},
     "output_type": "display_data"
    },
    {
     "data": {
      "image/png": "[encoded data removed]",
      "text/plain": [
       "<matplotlib.figure.Figure at 0x7fc55d01bb70>"
      ]
     },
     "metadata": {},
     "output_type": "display_data"
    },
    {
     "data": {
      "image/png": "[encoded data removed]",
      "text/plain": [
       "<matplotlib.figure.Figure at 0x7fc55d01b7b8>"
      ]
     },
     "metadata": {},
     "output_type": "display_data"
    }
   ],
   "source": [
    "# TODO: Run the model. Feel free to experiment with different batch sizes and number of epochs.\n",
    "model.fit(x_train, y_train, batch_size=128, epochs=100, verbose=False,\n",
    "          validation_split=0.2, callbacks=[CSVLogger('logs/IMDB.log')])\n",
    "\n",
    "# Plot training results\n",
    "import pandas as pd\n",
    "import matplotlib.pyplot as plt\n",
    "training_log = pd.read_csv('logs/IMDB.log', index_col=0)\n",
    "display(training_log)\n",
    "training_log[['acc', 'val_acc']].plot()\n",
    "training_log[['loss', 'val_loss']].plot()\n",
    "plt.show()"
   ]
  },
  {
   "cell_type": "markdown",
   "metadata": {},
   "source": [
    "## 6. Evaluating the model\n",
    "This will give you the accuracy of the model, as evaluated on the testing set. Can you get something over 85%?"
   ]
  },
  {
   "cell_type": "code",
   "execution_count": 18,
   "metadata": {},
   "outputs": [
    {
     "name": "stdout",
     "output_type": "stream",
     "text": [
      "Accuracy:  0.85128\n"
     ]
    }
   ],
   "source": [
    "score = model.evaluate(x_test, y_test, verbose=0)\n",
    "print(\"Accuracy: \", score[1])"
   ]
  }
 ],
 "metadata": {
  "kernelspec": {
   "display_name": "Python 3 (tensorflow-env)",
   "language": "python",
   "name": "tensorflow-env"
  },
  "language_info": {
   "codemirror_mode": {
    "name": "ipython",
    "version": 3
   },
   "file_extension": ".py",
   "mimetype": "text/x-python",
   "name": "python",
   "nbconvert_exporter": "python",
   "pygments_lexer": "ipython3",
   "version": "3.5.3"
  }
 },
 "nbformat": 4,
 "nbformat_minor": 2
}
